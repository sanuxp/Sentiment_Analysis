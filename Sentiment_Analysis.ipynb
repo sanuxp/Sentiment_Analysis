{
 "cells": [
  {
   "cell_type": "code",
   "execution_count": 8,
   "id": "51abd86b",
   "metadata": {},
   "outputs": [],
   "source": [
    "import numpy as np\n",
    "import pandas as pd\n",
    "import seaborn as sns\n",
    "import matplotlib.pyplot as plt\n",
    "from sklearn.model_selection import train_test_split\n",
    "from sklearn.feature_extraction.text import TfidfVectorizer\n",
    "from sklearn.pipeline import Pipeline\n",
    "from sklearn.svm import SVC\n",
    "from sklearn.metrics import classification_report, confusion_matrix\n",
    "import neattext.functions as nfx\n",
    "import joblib\n",
    "import warnings\n",
    "warnings.filterwarnings('ignore')\n"
   ]
  },
  {
   "cell_type": "code",
   "execution_count": 9,
   "id": "e09ee684",
   "metadata": {},
   "outputs": [],
   "source": [
    "# Load and preprocess data\n",
    "def load_and_preprocess_data(file_path):\n",
    "    # Read CSV file\n",
    "    df = pd.read_csv(file_path, names=['id', 'text', 'emotion'], header=0)\n",
    "    \n",
    "    # Clean text using neattext\n",
    "    df['clean_text'] = df['text'].apply(nfx.remove_stopwords)\n",
    "    df['clean_text'] = df['clean_text'].apply(nfx.remove_punctuations)\n",
    "    df['clean_text'] = df['clean_text'].apply(nfx.remove_special_characters)\n",
    "    \n",
    "    return df\n"
   ]
  },
  {
   "cell_type": "code",
   "execution_count": 10,
   "id": "9c99bcdb",
   "metadata": {},
   "outputs": [],
   "source": [
    "# Visualize emotion distribution\n",
    "def plot_emotion_distribution(df, save_path='emotion_distribution.png'):\n",
    "    plt.figure(figsize=(10, 6))\n",
    "    sns.countplot(x='emotion', data=df)\n",
    "    plt.title('Distribution of Emotions')\n",
    "    plt.xlabel('Emotion')\n",
    "    plt.ylabel('Count')\n",
    "    plt.xticks(rotation=45)\n",
    "    plt.savefig(save_path)\n",
    "    plt.close()"
   ]
  },
  {
   "cell_type": "code",
   "execution_count": null,
   "id": "d5243aab",
   "metadata": {},
   "outputs": [],
   "source": [
    "# Build and train model\n",
    "def train_model(X, y):\n",
    "    # Create pipeline with TF-IDF vectorizer\n",
    "    pipeline = Pipeline([\n",
    "        ('tfidf', TfidfVectorizer(max_features=5000)),\n",
    "        ('clf', SVC(decision_function_shape='ovo', max_iter=1000))\n",
    "    ])\n",
    "    \n",
    "    # Train model\n",
    "    pipeline.fit(X, y)\n",
    "    return pipeline\n"
   ]
  },
  {
   "cell_type": "code",
   "execution_count": 16,
   "id": "e87119b6",
   "metadata": {},
   "outputs": [],
   "source": [
    "# Evaluate model\n",
    "def evaluate_model(model, X_test, y_test, save_path='confusion_matrix.png'):\n",
    "    # Predictions\n",
    "    y_pred = model.predict(X_test)\n",
    "    \n",
    "    # Print classification report\n",
    "    print(\"\\nClassification Report:\")\n",
    "    print(classification_report(y_test, y_pred))\n",
    "    \n",
    "    # Plot confusion matrix\n",
    "    cm = confusion_matrix(y_test, y_pred, labels=model.classes_)\n",
    "    plt.figure(figsize=(10, 8))\n",
    "    sns.heatmap(cm, annot=True, fmt='d', cmap='Blues', \n",
    "                xticklabels=model.classes_, yticklabels=model.classes_)\n",
    "    plt.title('Confusion Matrix')\n",
    "    plt.xlabel('Predicted')\n",
    "    plt.ylabel('Actual')\n",
    "    plt.savefig(save_path)\n",
    "    plt.close()\n"
   ]
  },
  {
   "cell_type": "code",
   "execution_count": 17,
   "id": "89df5856",
   "metadata": {},
   "outputs": [],
   "source": [
    "def main(file_path):\n",
    "    # Load and preprocess data\n",
    "    df = load_and_preprocess_data(file_path)\n",
    "    \n",
    "    # Plot emotion distribution\n",
    "    plot_emotion_distribution(df)\n",
    "    \n",
    "    # Split data\n",
    "    X = df['clean_text']\n",
    "    y = df['emotion']\n",
    "    X_train, X_test, y_train, y_test = train_test_split(X, y, test_size=0.2, random_state=42)\n",
    "    \n",
    "    # Train model\n",
    "    model = train_model(X_train, y_train)\n",
    "    \n",
    "    # Evaluate model\n",
    "    evaluate_model(model, X_test, y_test)\n",
    "    \n",
    "    # Save model\n",
    "    joblib.dump(model, 'emotion_detection_model.pkl')\n",
    "    \n",
    "    # Example prediction\n",
    "    sample_text = [\"I am so happy today!\", \"This is really frustrating.\"]\n",
    "    cleaned_samples = [nfx.remove_stopwords(nfx.remove_punctuations(nfx.remove_special_characters(text))) for text in sample_text]\n",
    "    predictions = model.predict(cleaned_samples)\n",
    "    \n",
    "    print(\"\\nSample Predictions:\")\n",
    "    for text, pred in zip(sample_text, predictions):\n",
    "        print(f\"Text: {text} => Predicted Emotion: {pred}\")\n"
   ]
  },
  {
   "cell_type": "code",
   "execution_count": 18,
   "id": "9d228445",
   "metadata": {},
   "outputs": [
    {
     "name": "stdout",
     "output_type": "stream",
     "text": [
      "\n",
      "Classification Report:\n",
      "              precision    recall  f1-score   support\n",
      "\n",
      "       anger       0.56      0.93      0.70     11339\n",
      "        fear       0.42      0.88      0.57      9376\n",
      "         joy       0.78      0.84      0.81     28247\n",
      "        love       0.82      0.49      0.61      6853\n",
      "     sadness       0.96      0.32      0.48     24504\n",
      "    surprise       0.75      0.62      0.68      3043\n",
      "\n",
      "    accuracy                           0.67     83362\n",
      "   macro avg       0.72      0.68      0.64     83362\n",
      "weighted avg       0.77      0.67      0.65     83362\n",
      "\n",
      "\n",
      "Sample Predictions:\n",
      "Text: I am so happy today! => Predicted Emotion: joy\n",
      "Text: This is really frustrating. => Predicted Emotion: anger\n"
     ]
    }
   ],
   "source": [
    "\n",
    "if __name__ == \"__main__\":\n",
    "    # Replace 'dataset.csv' with your actual CSV file path\n",
    "    main('Emotion Dataset.csv')"
   ]
  },
  {
   "cell_type": "code",
   "execution_count": null,
   "id": "11e0c256",
   "metadata": {},
   "outputs": [],
   "source": []
  }
 ],
 "metadata": {
  "kernelspec": {
   "display_name": "env",
   "language": "python",
   "name": "python3"
  },
  "language_info": {
   "codemirror_mode": {
    "name": "ipython",
    "version": 3
   },
   "file_extension": ".py",
   "mimetype": "text/x-python",
   "name": "python",
   "nbconvert_exporter": "python",
   "pygments_lexer": "ipython3",
   "version": "3.12.7"
  }
 },
 "nbformat": 4,
 "nbformat_minor": 5
}
