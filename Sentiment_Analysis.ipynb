{
 "cells": [
  {
   "cell_type": "code",
   "execution_count": 1,
   "id": "51abd86b",
   "metadata": {},
   "outputs": [],
   "source": [
    "import numpy as np\n",
    "import pandas as pd\n",
    "import seaborn as sns\n",
    "import matplotlib.pyplot as plt\n",
    "from sklearn.model_selection import train_test_split, cross_val_score\n",
    "from sklearn.feature_extraction.text import TfidfVectorizer\n",
    "from sklearn.pipeline import Pipeline\n",
    "from sklearn.ensemble import RandomForestClassifier\n",
    "from sklearn.metrics import classification_report, confusion_matrix\n",
    "import neattext.functions as nfx\n",
    "import joblib\n",
    "import warnings\n",
    "warnings.filterwarnings('ignore')\n"
   ]
  },
  {
   "cell_type": "code",
   "execution_count": 2,
   "id": "e09ee684",
   "metadata": {},
   "outputs": [],
   "source": [
    "\n",
    "# Load and preprocess data\n",
    "def load_and_preprocess_data(file_path):\n",
    "    try:\n",
    "        # Read CSV file\n",
    "        df = pd.read_csv(file_path, names=['id', 'text', 'emotion'], header=0)\n",
    "        \n",
    "        # Basic data validation\n",
    "        if df.empty:\n",
    "            raise ValueError(\"Dataset is empty.\")\n",
    "        if df['text'].isnull().any() or df['emotion'].isnull().any():\n",
    "            raise ValueError(\"Dataset contains missing values.\")\n",
    "        \n",
    "        # Minimal text cleaning to preserve context\n",
    "        df['clean_text'] = df['text'].str.lower()\n",
    "        df['clean_text'] = df['clean_text'].apply(nfx.remove_special_characters)\n",
    "        df['clean_text'] = df['clean_text'].apply(nfx.remove_punctuations)\n",
    "        # Avoid removing stopwords to retain emotional context\n",
    "        # df['clean_text'] = df['clean_text'].apply(nfx.remove_stopwords)\n",
    "        \n",
    "        return df\n",
    "    except Exception as e:\n",
    "        print(f\"Error loading data: {e}\")\n",
    "        return None"
   ]
  },
  {
   "cell_type": "code",
   "execution_count": 3,
   "id": "9c99bcdb",
   "metadata": {},
   "outputs": [],
   "source": [
    "# Visualize emotion distribution\n",
    "def plot_emotion_distribution(df, save_path='emotion_distribution.png'):\n",
    "    plt.figure(figsize=(10, 6))\n",
    "    sns.countplot(x='emotion', data=df)\n",
    "    plt.title('Distribution of Emotions')\n",
    "    plt.xlabel('Emotion')\n",
    "    plt.ylabel('Count')\n",
    "    plt.xticks(rotation=45)\n",
    "    plt.savefig(save_path)\n",
    "    plt.close()\n",
    "    # Print class distribution\n",
    "    print(\"\\nClass Distribution:\")\n",
    "    print(df['emotion'].value_counts(normalize=True))"
   ]
  },
  {
   "cell_type": "code",
   "execution_count": 4,
   "id": "d5243aab",
   "metadata": {},
   "outputs": [],
   "source": [
    "# Build and train model\n",
    "def train_model(X, y):\n",
    "    # Create pipeline with TF-IDF vectorizer and Random Forest\n",
    "    pipeline = Pipeline([\n",
    "        ('tfidf', TfidfVectorizer(max_features=10000, ngram_range=(1, 2))),\n",
    "        ('clf', RandomForestClassifier(n_estimators=100, random_state=42))\n",
    "    ])\n",
    "    \n",
    "    # Perform cross-validation\n",
    "    cv_scores = cross_val_score(pipeline, X, y, cv=5, scoring='f1_macro')\n",
    "    print(f\"\\nCross-Validation F1-Macro Scores: {cv_scores}\")\n",
    "    print(f\"Average CV F1-Macro: {cv_scores.mean():.3f} (+/- {cv_scores.std() * 2:.3f})\")\n",
    "    \n",
    "    # Train model\n",
    "    pipeline.fit(X, y)\n",
    "    return pipeline\n"
   ]
  },
  {
   "cell_type": "code",
   "execution_count": null,
   "id": "e87119b6",
   "metadata": {},
   "outputs": [],
   "source": [
    "# Evaluate model\n",
    "def evaluate_model(model, X_test, y_test, save_path='confusion_matrix.png'):\n",
    "    # Predictions\n",
    "    y_pred = model.predict(X_test)\n",
    "    \n",
    "    # Print classification report\n",
    "    print(\"\\nClassification Report:\")\n",
    "    print(classification_report(y_test, y_pred))\n",
    "    \n",
    "    # Plot confusion matrix\n",
    "    cm = confusion_matrix(y_test, y_pred, labels=model.classes_)\n",
    "    plt.figure(figsize=(10, 8))\n",
    "    sns.heatmap(cm, annot=True, fmt='d', cmap='Blues', \n",
    "                xticklabels=model.classes_, yticklabels=model.classes_)\n",
    "    plt.title('Confusion Matrix')\n",
    "    plt.xlabel('Predicted')\n",
    "    plt.ylabel('Actual')\n",
    "    plt.savefig(save_path)\n",
    "    plt.close()\n"
   ]
  },
  {
   "cell_type": "code",
   "execution_count": null,
   "id": "36db69e3",
   "metadata": {},
   "outputs": [],
   "source": [
    "# Debug predictions with sample texts\n",
    "def debug_predictions(model):\n",
    "    sample_texts = [\n",
    "        \"I am so happy today!\",\n",
    "        \"This is really frustrating.\",\n",
    "        \"I feel so sad and alone.\",\n",
    "        \"I love this so much!\",\n",
    "        \"I'm terrified of what's happening.\"\n",
    "    ]\n",
    "    cleaned_samples = [preprocess_text(text) for text in sample_texts]\n",
    "    predictions = model.predict(cleaned_samples)\n",
    "    \n",
    "    print(\"\\nDebug Sample Predictions:\")\n",
    "    for text, pred in zip(sample_texts, predictions):\n",
    "        print(f\"Text: {text} => Predicted Emotion: {pred}\")\n",
    "    "
   ]
  },
  {
   "cell_type": "code",
   "execution_count": 6,
   "id": "89df5856",
   "metadata": {},
   "outputs": [],
   "source": [
    "\n",
    "def main(file_path):\n",
    "    # Load and preprocess data\n",
    "    df = load_and_preprocess_data(file_path)\n",
    "    if df is None:\n",
    "        return\n",
    "    \n",
    "    # Plot emotion distribution\n",
    "    plot_emotion_distribution(df)\n",
    "    \n",
    "    # Split data\n",
    "    X = df['clean_text']\n",
    "    y = df['emotion']\n",
    "    X_train, X_test, y_train, y_test = train_test_split(X, y, test_size=0.2, random_state=42, stratify=y)\n",
    "    \n",
    "    # Train model\n",
    "    model = train_model(X_train, y_train)\n",
    "    \n",
    "    # Evaluate model\n",
    "    evaluate_model(model, X_test, y_test)\n",
    "    \n",
    "    # Debug predictions\n",
    "    debug_predictions(model)\n",
    "    \n",
    "    # Save model\n",
    "    joblib.dump(model, 'model.pkl')\n",
    "    print(\"\\nModel saved as 'model.pkl'\")\n"
   ]
  },
  {
   "cell_type": "code",
   "execution_count": 7,
   "id": "e11db004",
   "metadata": {},
   "outputs": [],
   "source": [
    "def preprocess_text(text):\n",
    "    text = text.lower()\n",
    "    text = nfx.remove_special_characters(text)\n",
    "    text = nfx.remove_punctuations(text)\n",
    "    # Avoid removing stopwords\n",
    "    # text = nfx.remove_stopwords(text)\n",
    "    return text\n"
   ]
  },
  {
   "cell_type": "code",
   "execution_count": null,
   "id": "9d228445",
   "metadata": {},
   "outputs": [
    {
     "name": "stdout",
     "output_type": "stream",
     "text": [
      "\n",
      "Class Distribution:\n",
      "emotion\n",
      "joy         0.338445\n",
      "sadness     0.290749\n",
      "anger       0.137514\n",
      "fear        0.114470\n",
      "love        0.082901\n",
      "surprise    0.035921\n",
      "Name: proportion, dtype: float64\n"
     ]
    }
   ],
   "source": [
    "if __name__ == \"__main__\":\n",
    "    main('Emotion Dataset.csv')"
   ]
  }
 ],
 "metadata": {
  "kernelspec": {
   "display_name": "env",
   "language": "python",
   "name": "python3"
  },
  "language_info": {
   "codemirror_mode": {
    "name": "ipython",
    "version": 3
   },
   "file_extension": ".py",
   "mimetype": "text/x-python",
   "name": "python",
   "nbconvert_exporter": "python",
   "pygments_lexer": "ipython3",
   "version": "3.12.7"
  }
 },
 "nbformat": 4,
 "nbformat_minor": 5
}
